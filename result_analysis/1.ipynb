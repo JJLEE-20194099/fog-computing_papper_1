{
 "cells": [
  {
   "cell_type": "code",
   "execution_count": 33,
   "metadata": {},
   "outputs": [],
   "source": [
    "import pandas as pd\n",
    "import numpy as np\n",
    "import os\n",
    "import matplotlib.pyplot as plt"
   ]
  },
  {
   "cell_type": "code",
   "execution_count": 34,
   "metadata": {},
   "outputs": [],
   "source": [
    "dfs = []"
   ]
  },
  {
   "cell_type": "code",
   "execution_count": 35,
   "metadata": {},
   "outputs": [
    {
     "name": "stdout",
     "output_type": "stream",
     "text": [
      "(97, 9)\n"
     ]
    }
   ],
   "source": [
    "for i in range(1):\n",
    "    df = pd.read_csv('../log/timeslot_{}.txt'.format(i), sep=',')\n",
    "    print(df.shape)\n",
    "    dfs.append(df)"
   ]
  },
  {
   "cell_type": "code",
   "execution_count": 36,
   "metadata": {},
   "outputs": [],
   "source": [
    "data = pd.concat(dfs)"
   ]
  },
  {
   "cell_type": "code",
   "execution_count": 37,
   "metadata": {},
   "outputs": [
    {
     "data": {
      "text/plain": [
       "(97, 9)"
      ]
     },
     "execution_count": 37,
     "metadata": {},
     "output_type": "execute_result"
    }
   ],
   "source": [
    "data.shape"
   ]
  },
  {
   "cell_type": "code",
   "execution_count": 38,
   "metadata": {},
   "outputs": [
    {
     "data": {
      "text/html": [
       "<div>\n",
       "<style scoped>\n",
       "    .dataframe tbody tr th:only-of-type {\n",
       "        vertical-align: middle;\n",
       "    }\n",
       "\n",
       "    .dataframe tbody tr th {\n",
       "        vertical-align: top;\n",
       "    }\n",
       "\n",
       "    .dataframe thead th {\n",
       "        text-align: right;\n",
       "    }\n",
       "</style>\n",
       "<table border=\"1\" class=\"dataframe\">\n",
       "  <thead>\n",
       "    <tr style=\"text-align: right;\">\n",
       "      <th></th>\n",
       "      <th>Episode</th>\n",
       "      <th>Reward</th>\n",
       "      <th>Avg Reward</th>\n",
       "      <th>Loss</th>\n",
       "      <th>Average Q</th>\n",
       "      <th>Total Frames</th>\n",
       "      <th>Number of completed tasks</th>\n",
       "      <th>Energy Consumption</th>\n",
       "      <th>Epsilon</th>\n",
       "    </tr>\n",
       "  </thead>\n",
       "  <tbody>\n",
       "    <tr>\n",
       "      <th>0</th>\n",
       "      <td>0</td>\n",
       "      <td>139.497121</td>\n",
       "      <td>139.497121</td>\n",
       "      <td>0.000000</td>\n",
       "      <td>0.000000</td>\n",
       "      <td>99</td>\n",
       "      <td>98</td>\n",
       "      <td>280.2619</td>\n",
       "      <td>1.00000</td>\n",
       "    </tr>\n",
       "    <tr>\n",
       "      <th>1</th>\n",
       "      <td>1</td>\n",
       "      <td>272.526570</td>\n",
       "      <td>206.011846</td>\n",
       "      <td>0.000000</td>\n",
       "      <td>0.000000</td>\n",
       "      <td>199</td>\n",
       "      <td>198</td>\n",
       "      <td>597.8850</td>\n",
       "      <td>1.00000</td>\n",
       "    </tr>\n",
       "    <tr>\n",
       "      <th>2</th>\n",
       "      <td>2</td>\n",
       "      <td>413.339282</td>\n",
       "      <td>275.120991</td>\n",
       "      <td>0.000000</td>\n",
       "      <td>0.000000</td>\n",
       "      <td>299</td>\n",
       "      <td>298</td>\n",
       "      <td>889.7803</td>\n",
       "      <td>1.00000</td>\n",
       "    </tr>\n",
       "    <tr>\n",
       "      <th>3</th>\n",
       "      <td>3</td>\n",
       "      <td>555.894455</td>\n",
       "      <td>345.314357</td>\n",
       "      <td>0.000000</td>\n",
       "      <td>0.000000</td>\n",
       "      <td>399</td>\n",
       "      <td>397</td>\n",
       "      <td>1172.8091</td>\n",
       "      <td>1.00000</td>\n",
       "    </tr>\n",
       "    <tr>\n",
       "      <th>4</th>\n",
       "      <td>4</td>\n",
       "      <td>716.241369</td>\n",
       "      <td>419.499759</td>\n",
       "      <td>0.000000</td>\n",
       "      <td>0.000000</td>\n",
       "      <td>499</td>\n",
       "      <td>497</td>\n",
       "      <td>1428.1482</td>\n",
       "      <td>1.00000</td>\n",
       "    </tr>\n",
       "    <tr>\n",
       "      <th>...</th>\n",
       "      <td>...</td>\n",
       "      <td>...</td>\n",
       "      <td>...</td>\n",
       "      <td>...</td>\n",
       "      <td>...</td>\n",
       "      <td>...</td>\n",
       "      <td>...</td>\n",
       "      <td>...</td>\n",
       "      <td>...</td>\n",
       "    </tr>\n",
       "    <tr>\n",
       "      <th>92</th>\n",
       "      <td>92</td>\n",
       "      <td>13080.252137</td>\n",
       "      <td>6630.028858</td>\n",
       "      <td>5.899249</td>\n",
       "      <td>40.725426</td>\n",
       "      <td>9299</td>\n",
       "      <td>9199</td>\n",
       "      <td>26939.9943</td>\n",
       "      <td>0.22636</td>\n",
       "    </tr>\n",
       "    <tr>\n",
       "      <th>93</th>\n",
       "      <td>93</td>\n",
       "      <td>13225.189082</td>\n",
       "      <td>6700.190137</td>\n",
       "      <td>5.773613</td>\n",
       "      <td>41.051445</td>\n",
       "      <td>9399</td>\n",
       "      <td>9298</td>\n",
       "      <td>27207.5372</td>\n",
       "      <td>0.20836</td>\n",
       "    </tr>\n",
       "    <tr>\n",
       "      <th>94</th>\n",
       "      <td>94</td>\n",
       "      <td>13364.014977</td>\n",
       "      <td>6770.335662</td>\n",
       "      <td>11.400183</td>\n",
       "      <td>51.974033</td>\n",
       "      <td>9499</td>\n",
       "      <td>9397</td>\n",
       "      <td>27492.1990</td>\n",
       "      <td>0.19036</td>\n",
       "    </tr>\n",
       "    <tr>\n",
       "      <th>95</th>\n",
       "      <td>95</td>\n",
       "      <td>13500.946265</td>\n",
       "      <td>6840.446189</td>\n",
       "      <td>11.257720</td>\n",
       "      <td>56.543751</td>\n",
       "      <td>9599</td>\n",
       "      <td>9497</td>\n",
       "      <td>27797.0962</td>\n",
       "      <td>0.17236</td>\n",
       "    </tr>\n",
       "    <tr>\n",
       "      <th>96</th>\n",
       "      <td>96</td>\n",
       "      <td>13575.716456</td>\n",
       "      <td>6909.881965</td>\n",
       "      <td>11.699786</td>\n",
       "      <td>57.671368</td>\n",
       "      <td>9659</td>\n",
       "      <td>9554</td>\n",
       "      <td>27986.6783</td>\n",
       "      <td>0.16156</td>\n",
       "    </tr>\n",
       "  </tbody>\n",
       "</table>\n",
       "<p>97 rows × 9 columns</p>\n",
       "</div>"
      ],
      "text/plain": [
       "    Episode        Reward   Avg Reward       Loss  Average Q  Total Frames  \\\n",
       "0         0    139.497121   139.497121   0.000000   0.000000            99   \n",
       "1         1    272.526570   206.011846   0.000000   0.000000           199   \n",
       "2         2    413.339282   275.120991   0.000000   0.000000           299   \n",
       "3         3    555.894455   345.314357   0.000000   0.000000           399   \n",
       "4         4    716.241369   419.499759   0.000000   0.000000           499   \n",
       "..      ...           ...          ...        ...        ...           ...   \n",
       "92       92  13080.252137  6630.028858   5.899249  40.725426          9299   \n",
       "93       93  13225.189082  6700.190137   5.773613  41.051445          9399   \n",
       "94       94  13364.014977  6770.335662  11.400183  51.974033          9499   \n",
       "95       95  13500.946265  6840.446189  11.257720  56.543751          9599   \n",
       "96       96  13575.716456  6909.881965  11.699786  57.671368          9659   \n",
       "\n",
       "    Number of completed tasks  Energy Consumption  Epsilon  \n",
       "0                          98            280.2619  1.00000  \n",
       "1                         198            597.8850  1.00000  \n",
       "2                         298            889.7803  1.00000  \n",
       "3                         397           1172.8091  1.00000  \n",
       "4                         497           1428.1482  1.00000  \n",
       "..                        ...                 ...      ...  \n",
       "92                       9199          26939.9943  0.22636  \n",
       "93                       9298          27207.5372  0.20836  \n",
       "94                       9397          27492.1990  0.19036  \n",
       "95                       9497          27797.0962  0.17236  \n",
       "96                       9554          27986.6783  0.16156  \n",
       "\n",
       "[97 rows x 9 columns]"
      ]
     },
     "execution_count": 38,
     "metadata": {},
     "output_type": "execute_result"
    }
   ],
   "source": [
    "data"
   ]
  },
  {
   "cell_type": "code",
   "execution_count": 39,
   "metadata": {},
   "outputs": [],
   "source": [
    "def modify(x):\n",
    "    n = len(x)\n",
    "    for i in range(0, n - 1):\n",
    "        x[n - i - 1] = x[n - i - 1] - x[n - i - 2]\n",
    "\n",
    "    return x"
   ]
  },
  {
   "cell_type": "code",
   "execution_count": 40,
   "metadata": {},
   "outputs": [],
   "source": [
    "data['Reward'] = modify(data['Reward'].tolist())"
   ]
  },
  {
   "cell_type": "code",
   "execution_count": 41,
   "metadata": {},
   "outputs": [
    {
     "data": {
      "text/plain": [
       "0       280.2619\n",
       "1       597.8850\n",
       "2       889.7803\n",
       "3      1172.8091\n",
       "4      1428.1482\n",
       "         ...    \n",
       "92    26939.9943\n",
       "93    27207.5372\n",
       "94    27492.1990\n",
       "95    27797.0962\n",
       "96    27986.6783\n",
       "Name: Energy Consumption, Length: 97, dtype: float64"
      ]
     },
     "execution_count": 41,
     "metadata": {},
     "output_type": "execute_result"
    }
   ],
   "source": [
    "data['Energy Consumption']"
   ]
  },
  {
   "cell_type": "code",
   "execution_count": 42,
   "metadata": {},
   "outputs": [
    {
     "data": {
      "image/png": "[encoded data removed]",
      "text/plain": [
       "<Figure size 432x288 with 1 Axes>"
      ]
     },
     "metadata": {
      "needs_background": "light"
     },
     "output_type": "display_data"
    }
   ],
   "source": [
    "xpoints = np.array(range(data.shape[0]))\n",
    "ypoints = np.array(data['Reward'])\n",
    "\n",
    "plt.plot(xpoints, ypoints)\n",
    "plt.show()"
   ]
  }
 ],
 "metadata": {
  "interpreter": {
   "hash": "ac59ebe37160ed0dfa835113d9b8498d9f09ceb179beaac4002f036b9467c963"
  },
  "kernelspec": {
   "display_name": "Python 3.9.7 64-bit",
   "language": "python",
   "name": "python3"
  },
  "language_info": {
   "codemirror_mode": {
    "name": "ipython",
    "version": 3
   },
   "file_extension": ".py",
   "mimetype": "text/x-python",
   "name": "python",
   "nbconvert_exporter": "python",
   "pygments_lexer": "ipython3",
   "version": "3.9.7"
  },
  "orig_nbformat": 4
 },
 "nbformat": 4,
 "nbformat_minor": 2
}
